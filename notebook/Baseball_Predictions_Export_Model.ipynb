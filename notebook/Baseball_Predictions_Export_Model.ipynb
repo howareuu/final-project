{
 "nbformat": 4,
 "nbformat_minor": 0,
 "metadata": {
  "colab": {
   "name": "Baseball-Predictions-Export-Model.ipynb",
   "provenance": [],
   "collapsed_sections": [
    "HyNJLkXvV84d"
   ],
   "machine_shape": "hm",
   "authorship_tag": "ABX9TyPCx3UrQffvVB/Lurta5uoZ",
   "include_colab_link": true
  },
  "kernelspec": {
   "name": "python3",
   "display_name": "Python 3"
  }
 },
 "cells": [
  {
   "cell_type": "markdown",
   "metadata": {
    "id": "view-in-github",
    "colab_type": "text"
   },
   "source": [
    "<a href=\"https://colab.research.google.com/github/noahgift/Python-MLOps-Cookbook/blob/main/Baseball_Predictions_Export_Model.ipynb\" target=\"_parent\"><img src=\"https://colab.research.google.com/assets/colab-badge.svg\" alt=\"Open In Colab\"/></a>"
   ]
  },
  {
   "cell_type": "markdown",
   "metadata": {
    "id": "4362wTmsMkE2"
   },
   "source": [
    "# ML Regression"
   ]
  },
  {
   "cell_type": "markdown",
   "metadata": {
    "id": "wwI8eYO-fVpF"
   },
   "source": [
    "This notebook is featured in [Practical MLOps book by O'Reilly](https://learning.oreilly.com/library/view/practical-mlops/9781098103002/) as well a Coursera + Duke Course."
   ]
  },
  {
   "cell_type": "markdown",
   "metadata": {
    "id": "xcpLFdExMo9x"
   },
   "source": [
    "## Ingest"
   ]
  },
  {
   "cell_type": "markdown",
   "metadata": {
    "id": "tb1teb6sNLny"
   },
   "source": [
    "Source:  http://wiki.stat.ucla.edu/socr/index.php/SOCR_Data_MLB_HeightsWeights"
   ]
  },
  {
   "cell_type": "code",
   "metadata": {
    "id": "Yy9RNaZKMicJ",
    "colab": {
     "base_uri": "https://localhost:8080/",
     "height": 228
    },
    "outputId": "e5faba06-8a1f-426e-9d28-a3e6866274fd"
   },
   "source": [
    "import pandas as pd\n",
    "import seaborn as sns\n",
    "import matplotlib.pyplot as plt\n",
    "df = pd.read_csv(\"https://raw.githubusercontent.com/noahgift/functional_intro_to_python/master/data/mlb_weight_ht.csv\")\n",
    "df.head()"
   ],
   "execution_count": 34,
   "outputs": [
    {
     "data": {
      "text/plain": "              Name Team       Position  Height(inches)  Weight(pounds)    Age\n0    Adam_Donachie  BAL        Catcher              74           180.0  22.99\n1        Paul_Bako  BAL        Catcher              74           215.0  34.69\n2  Ramon_Hernandez  BAL        Catcher              72           210.0  30.78\n3     Kevin_Millar  BAL  First_Baseman              72           210.0  35.43\n4      Chris_Gomez  BAL  First_Baseman              73           188.0  35.71",
      "text/html": "<div>\n<style scoped>\n    .dataframe tbody tr th:only-of-type {\n        vertical-align: middle;\n    }\n\n    .dataframe tbody tr th {\n        vertical-align: top;\n    }\n\n    .dataframe thead th {\n        text-align: right;\n    }\n</style>\n<table border=\"1\" class=\"dataframe\">\n  <thead>\n    <tr style=\"text-align: right;\">\n      <th></th>\n      <th>Name</th>\n      <th>Team</th>\n      <th>Position</th>\n      <th>Height(inches)</th>\n      <th>Weight(pounds)</th>\n      <th>Age</th>\n    </tr>\n  </thead>\n  <tbody>\n    <tr>\n      <th>0</th>\n      <td>Adam_Donachie</td>\n      <td>BAL</td>\n      <td>Catcher</td>\n      <td>74</td>\n      <td>180.0</td>\n      <td>22.99</td>\n    </tr>\n    <tr>\n      <th>1</th>\n      <td>Paul_Bako</td>\n      <td>BAL</td>\n      <td>Catcher</td>\n      <td>74</td>\n      <td>215.0</td>\n      <td>34.69</td>\n    </tr>\n    <tr>\n      <th>2</th>\n      <td>Ramon_Hernandez</td>\n      <td>BAL</td>\n      <td>Catcher</td>\n      <td>72</td>\n      <td>210.0</td>\n      <td>30.78</td>\n    </tr>\n    <tr>\n      <th>3</th>\n      <td>Kevin_Millar</td>\n      <td>BAL</td>\n      <td>First_Baseman</td>\n      <td>72</td>\n      <td>210.0</td>\n      <td>35.43</td>\n    </tr>\n    <tr>\n      <th>4</th>\n      <td>Chris_Gomez</td>\n      <td>BAL</td>\n      <td>First_Baseman</td>\n      <td>73</td>\n      <td>188.0</td>\n      <td>35.71</td>\n    </tr>\n  </tbody>\n</table>\n</div>"
     },
     "execution_count": 34,
     "metadata": {},
     "output_type": "execute_result"
    }
   ]
  },
  {
   "cell_type": "markdown",
   "metadata": {
    "id": "94wUpB9ZXux_"
   },
   "source": [
    "Find N/A"
   ]
  },
  {
   "cell_type": "code",
   "metadata": {
    "id": "EUEKUcSGX411",
    "colab": {
     "base_uri": "https://localhost:8080/"
    },
    "outputId": "701d2643-5197-4456-d425-c44c96898b8c"
   },
   "source": [
    "df.shape"
   ],
   "execution_count": 35,
   "outputs": [
    {
     "data": {
      "text/plain": "(1034, 6)"
     },
     "execution_count": 35,
     "metadata": {},
     "output_type": "execute_result"
    }
   ]
  },
  {
   "cell_type": "code",
   "metadata": {
    "id": "N2lBngydXmTP",
    "colab": {
     "base_uri": "https://localhost:8080/"
    },
    "outputId": "e6de5d70-f139-453f-ea25-0d861e8504c9"
   },
   "source": [
    "df.isnull().values.any()"
   ],
   "execution_count": 36,
   "outputs": [
    {
     "data": {
      "text/plain": "True"
     },
     "execution_count": 36,
     "metadata": {},
     "output_type": "execute_result"
    }
   ]
  },
  {
   "cell_type": "code",
   "metadata": {
    "id": "V1g0_zidXw8N",
    "colab": {
     "base_uri": "https://localhost:8080/"
    },
    "outputId": "be808e7e-aeca-4e88-e780-959a278250e2"
   },
   "source": [
    "df = df.dropna()\n",
    "df.isnull().values.any()"
   ],
   "execution_count": 37,
   "outputs": [
    {
     "data": {
      "text/plain": "False"
     },
     "execution_count": 37,
     "metadata": {},
     "output_type": "execute_result"
    }
   ]
  },
  {
   "cell_type": "code",
   "metadata": {
    "id": "zRAL01iuX6dc",
    "colab": {
     "base_uri": "https://localhost:8080/"
    },
    "outputId": "23bf3e43-d7df-4346-c630-08b75f95d501"
   },
   "source": [
    "df.shape"
   ],
   "execution_count": 38,
   "outputs": [
    {
     "data": {
      "text/plain": "(1033, 6)"
     },
     "execution_count": 38,
     "metadata": {},
     "output_type": "execute_result"
    }
   ]
  },
  {
   "cell_type": "markdown",
   "metadata": {
    "id": "hinonO2OOmYi"
   },
   "source": [
    "### Clean"
   ]
  },
  {
   "cell_type": "code",
   "metadata": {
    "id": "xGnhpcC9OohW",
    "colab": {
     "base_uri": "https://localhost:8080/",
     "height": 228
    },
    "outputId": "ac6d56e4-4d3a-4c5b-eca1-1c92fe68c561"
   },
   "source": [
    "df.rename(index=str, \n",
    "             columns={\"Height(inches)\": \"Height\", \"Weight(pounds)\": \"Weight\"},\n",
    "             inplace=True)\n",
    "df.head()\n"
   ],
   "execution_count": 39,
   "outputs": [
    {
     "data": {
      "text/plain": "              Name Team       Position  Height  Weight    Age\n0    Adam_Donachie  BAL        Catcher      74   180.0  22.99\n1        Paul_Bako  BAL        Catcher      74   215.0  34.69\n2  Ramon_Hernandez  BAL        Catcher      72   210.0  30.78\n3     Kevin_Millar  BAL  First_Baseman      72   210.0  35.43\n4      Chris_Gomez  BAL  First_Baseman      73   188.0  35.71",
      "text/html": "<div>\n<style scoped>\n    .dataframe tbody tr th:only-of-type {\n        vertical-align: middle;\n    }\n\n    .dataframe tbody tr th {\n        vertical-align: top;\n    }\n\n    .dataframe thead th {\n        text-align: right;\n    }\n</style>\n<table border=\"1\" class=\"dataframe\">\n  <thead>\n    <tr style=\"text-align: right;\">\n      <th></th>\n      <th>Name</th>\n      <th>Team</th>\n      <th>Position</th>\n      <th>Height</th>\n      <th>Weight</th>\n      <th>Age</th>\n    </tr>\n  </thead>\n  <tbody>\n    <tr>\n      <th>0</th>\n      <td>Adam_Donachie</td>\n      <td>BAL</td>\n      <td>Catcher</td>\n      <td>74</td>\n      <td>180.0</td>\n      <td>22.99</td>\n    </tr>\n    <tr>\n      <th>1</th>\n      <td>Paul_Bako</td>\n      <td>BAL</td>\n      <td>Catcher</td>\n      <td>74</td>\n      <td>215.0</td>\n      <td>34.69</td>\n    </tr>\n    <tr>\n      <th>2</th>\n      <td>Ramon_Hernandez</td>\n      <td>BAL</td>\n      <td>Catcher</td>\n      <td>72</td>\n      <td>210.0</td>\n      <td>30.78</td>\n    </tr>\n    <tr>\n      <th>3</th>\n      <td>Kevin_Millar</td>\n      <td>BAL</td>\n      <td>First_Baseman</td>\n      <td>72</td>\n      <td>210.0</td>\n      <td>35.43</td>\n    </tr>\n    <tr>\n      <th>4</th>\n      <td>Chris_Gomez</td>\n      <td>BAL</td>\n      <td>First_Baseman</td>\n      <td>73</td>\n      <td>188.0</td>\n      <td>35.71</td>\n    </tr>\n  </tbody>\n</table>\n</div>"
     },
     "execution_count": 39,
     "metadata": {},
     "output_type": "execute_result"
    }
   ]
  },
  {
   "cell_type": "markdown",
   "metadata": {
    "id": "ZdOS02NgNBk1"
   },
   "source": [
    "## EDA"
   ]
  },
  {
   "cell_type": "code",
   "metadata": {
    "id": "nZE0KT42NC3x",
    "colab": {
     "base_uri": "https://localhost:8080/",
     "height": 323
    },
    "outputId": "67430404-8269-4918-d734-38be0d642c45"
   },
   "source": [
    "df.describe()"
   ],
   "execution_count": 40,
   "outputs": [
    {
     "data": {
      "text/plain": "            Height       Weight          Age\ncount  1033.000000  1033.000000  1033.000000\nmean     73.698935   201.689255    28.737648\nstd       2.306330    20.991491     4.322298\nmin      67.000000   150.000000    20.900000\n25%      72.000000   187.000000    25.440000\n50%      74.000000   200.000000    27.930000\n75%      75.000000   215.000000    31.240000\nmax      83.000000   290.000000    48.520000",
      "text/html": "<div>\n<style scoped>\n    .dataframe tbody tr th:only-of-type {\n        vertical-align: middle;\n    }\n\n    .dataframe tbody tr th {\n        vertical-align: top;\n    }\n\n    .dataframe thead th {\n        text-align: right;\n    }\n</style>\n<table border=\"1\" class=\"dataframe\">\n  <thead>\n    <tr style=\"text-align: right;\">\n      <th></th>\n      <th>Height</th>\n      <th>Weight</th>\n      <th>Age</th>\n    </tr>\n  </thead>\n  <tbody>\n    <tr>\n      <th>count</th>\n      <td>1033.000000</td>\n      <td>1033.000000</td>\n      <td>1033.000000</td>\n    </tr>\n    <tr>\n      <th>mean</th>\n      <td>73.698935</td>\n      <td>201.689255</td>\n      <td>28.737648</td>\n    </tr>\n    <tr>\n      <th>std</th>\n      <td>2.306330</td>\n      <td>20.991491</td>\n      <td>4.322298</td>\n    </tr>\n    <tr>\n      <th>min</th>\n      <td>67.000000</td>\n      <td>150.000000</td>\n      <td>20.900000</td>\n    </tr>\n    <tr>\n      <th>25%</th>\n      <td>72.000000</td>\n      <td>187.000000</td>\n      <td>25.440000</td>\n    </tr>\n    <tr>\n      <th>50%</th>\n      <td>74.000000</td>\n      <td>200.000000</td>\n      <td>27.930000</td>\n    </tr>\n    <tr>\n      <th>75%</th>\n      <td>75.000000</td>\n      <td>215.000000</td>\n      <td>31.240000</td>\n    </tr>\n    <tr>\n      <th>max</th>\n      <td>83.000000</td>\n      <td>290.000000</td>\n      <td>48.520000</td>\n    </tr>\n  </tbody>\n</table>\n</div>"
     },
     "execution_count": 40,
     "metadata": {},
     "output_type": "execute_result"
    }
   ]
  },
  {
   "cell_type": "markdown",
   "metadata": {
    "id": "AgY0aQiBNgrg"
   },
   "source": [
    "## Modeling"
   ]
  },
  {
   "cell_type": "code",
   "metadata": {
    "id": "8lzc98GwNh_e"
   },
   "source": [
    "from sklearn.model_selection import train_test_split\n",
    "from sklearn.preprocessing import StandardScaler"
   ],
   "execution_count": 41,
   "outputs": []
  },
  {
   "cell_type": "markdown",
   "metadata": {
    "id": "7u5EFF1FQfbs"
   },
   "source": [
    "### Select Feature\n",
    "\n",
    "Using Weight to Predict Height, so just one feature\n"
   ]
  },
  {
   "cell_type": "code",
   "metadata": {
    "id": "9xBm4wektxRh",
    "colab": {
     "base_uri": "https://localhost:8080/"
    },
    "outputId": "303b22ff-bf33-457e-af94-e54cd3f0c2dd"
   },
   "source": [
    "var = df['Height'].values\n",
    "var.shape"
   ],
   "execution_count": 42,
   "outputs": [
    {
     "data": {
      "text/plain": "(1033,)"
     },
     "execution_count": 42,
     "metadata": {},
     "output_type": "execute_result"
    }
   ]
  },
  {
   "cell_type": "code",
   "metadata": {
    "id": "SEUpMhHvQhkc"
   },
   "source": [
    "y = df['Height'].values #Target\n",
    "y = y.reshape(-1, 1)\n",
    "X = df['Weight'].values #Feature(s)\n",
    "X = X.reshape(-1,1)"
   ],
   "execution_count": 43,
   "outputs": []
  },
  {
   "cell_type": "code",
   "metadata": {
    "colab": {
     "base_uri": "https://localhost:8080/"
    },
    "id": "rxksVsnXDDP-",
    "outputId": "0c0d6247-3a97-43e7-c72b-5559e488c5e2"
   },
   "source": [
    "X.shape"
   ],
   "execution_count": 44,
   "outputs": [
    {
     "data": {
      "text/plain": "(1033, 1)"
     },
     "execution_count": 44,
     "metadata": {},
     "output_type": "execute_result"
    }
   ]
  },
  {
   "cell_type": "code",
   "metadata": {
    "id": "eGW5TKEyt64F",
    "colab": {
     "base_uri": "https://localhost:8080/"
    },
    "outputId": "ce5a30f7-8ea9-455e-fdfd-015ba02870d6"
   },
   "source": [
    "y.shape"
   ],
   "execution_count": 45,
   "outputs": [
    {
     "data": {
      "text/plain": "(1033, 1)"
     },
     "execution_count": 45,
     "metadata": {},
     "output_type": "execute_result"
    }
   ]
  },
  {
   "cell_type": "markdown",
   "metadata": {
    "id": "a1PeC6cbQHar"
   },
   "source": [
    "### Split Data and Scale Data"
   ]
  },
  {
   "cell_type": "markdown",
   "metadata": {
    "id": "RKXID-lXiU1f"
   },
   "source": [
    "Scaling workflow step by step to make it easier to understand"
   ]
  },
  {
   "cell_type": "code",
   "metadata": {
    "id": "InpYc9_HlOok"
   },
   "source": [
    "scaler = StandardScaler()"
   ],
   "execution_count": 46,
   "outputs": []
  },
  {
   "cell_type": "code",
   "metadata": {
    "colab": {
     "base_uri": "https://localhost:8080/"
    },
    "id": "BlsEqG9kC6nQ",
    "outputId": "825044e3-ec81-471f-cbb1-706dbf942903"
   },
   "source": [
    "X_scaler = scaler.fit(X)\n",
    "X\n"
   ],
   "execution_count": 47,
   "outputs": [
    {
     "data": {
      "text/plain": "array([[180.],\n       [215.],\n       [210.],\n       ...,\n       [205.],\n       [190.],\n       [195.]])"
     },
     "execution_count": 47,
     "metadata": {},
     "output_type": "execute_result"
    }
   ]
  },
  {
   "cell_type": "code",
   "metadata": {
    "colab": {
     "base_uri": "https://localhost:8080/"
    },
    "id": "sCoHtdhQjXTa",
    "outputId": "e308e491-4778-485d-ca16-c4a799ecd092"
   },
   "source": [
    "X = X_scaler.transform(X)\n",
    "X"
   ],
   "execution_count": 48,
   "outputs": [
    {
     "data": {
      "text/plain": "array([[-1.0337408 ],\n       [ 0.6344091 ],\n       [ 0.39610197],\n       ...,\n       [ 0.15779485],\n       [-0.55712654],\n       [-0.31881941]])"
     },
     "execution_count": 48,
     "metadata": {},
     "output_type": "execute_result"
    }
   ]
  },
  {
   "cell_type": "code",
   "metadata": {
    "colab": {
     "base_uri": "https://localhost:8080/"
    },
    "id": "xJZBzJ9ADoZv",
    "outputId": "af6a8beb-2c0f-4a69-8c39-cb0ccdba3d13"
   },
   "source": [
    "y_scaler = scaler.fit(y)\n",
    "y"
   ],
   "execution_count": 49,
   "outputs": [
    {
     "data": {
      "text/plain": "array([[74],\n       [74],\n       [72],\n       ...,\n       [75],\n       [75],\n       [73]])"
     },
     "execution_count": 49,
     "metadata": {},
     "output_type": "execute_result"
    }
   ]
  },
  {
   "cell_type": "code",
   "metadata": {
    "colab": {
     "base_uri": "https://localhost:8080/"
    },
    "id": "71bi_sbKjvF4",
    "outputId": "1588cf86-1fd9-4d94-e74b-c2fc0177eabf"
   },
   "source": [
    "y = y_scaler.transform(y)\n",
    "y"
   ],
   "execution_count": 50,
   "outputs": [
    {
     "data": {
      "text/plain": "array([[ 0.13060176],\n       [ 0.13060176],\n       [-0.73699706],\n       ...,\n       [ 0.56440117],\n       [ 0.56440117],\n       [-0.30319765]])"
     },
     "execution_count": 50,
     "metadata": {},
     "output_type": "execute_result"
    }
   ]
  },
  {
   "cell_type": "code",
   "metadata": {
    "id": "Pb552OpRON4G",
    "colab": {
     "base_uri": "https://localhost:8080/"
    },
    "outputId": "cfbe44cb-748f-4e5e-9bc5-33bd27e6248d"
   },
   "source": [
    "X_train, X_test, y_train, y_test = train_test_split(X, y, test_size=0.1)\n",
    "print(X_train.shape, y_train.shape)\n",
    "print(X_test.shape, y_test.shape)"
   ],
   "execution_count": 51,
   "outputs": [
    {
     "name": "stdout",
     "output_type": "stream",
     "text": [
      "(929, 1) (929, 1)\n",
      "(104, 1) (104, 1)\n"
     ]
    }
   ]
  },
  {
   "cell_type": "markdown",
   "metadata": {
    "id": "XSX1G3QoQFdy"
   },
   "source": [
    "### Fit the model"
   ]
  },
  {
   "cell_type": "code",
   "metadata": {
    "id": "KxnwLKlrPorE"
   },
   "source": [
    "from sklearn.linear_model import Ridge\n",
    "clf = Ridge()\n",
    "model = clf.fit(X_train, y_train)\n",
    "predictions = clf.predict(X_test)"
   ],
   "execution_count": 52,
   "outputs": []
  },
  {
   "cell_type": "code",
   "metadata": {
    "colab": {
     "base_uri": "https://localhost:8080/"
    },
    "id": "wz9m8pq_Zctr",
    "outputId": "c331d7aa-707c-4064-b7f3-c53c8af50f44"
   },
   "source": [
    "y_test.shape"
   ],
   "execution_count": 53,
   "outputs": [
    {
     "data": {
      "text/plain": "(104, 1)"
     },
     "execution_count": 53,
     "metadata": {},
     "output_type": "execute_result"
    }
   ]
  },
  {
   "cell_type": "code",
   "metadata": {
    "colab": {
     "base_uri": "https://localhost:8080/"
    },
    "id": "mx_36dllZiEJ",
    "outputId": "c511ef06-2655-432c-a349-c4e8f86611fa"
   },
   "source": [
    "predictions.shape"
   ],
   "execution_count": 54,
   "outputs": [
    {
     "data": {
      "text/plain": "(104, 1)"
     },
     "execution_count": 54,
     "metadata": {},
     "output_type": "execute_result"
    }
   ]
  },
  {
   "cell_type": "markdown",
   "metadata": {
    "id": "4KicWLboqfHz"
   },
   "source": [
    "unscaled predictions, converted to DataFrame and described"
   ]
  },
  {
   "cell_type": "code",
   "metadata": {
    "colab": {
     "base_uri": "https://localhost:8080/",
     "height": 323
    },
    "id": "J_JppG6AqiAu",
    "outputId": "048be3ca-c91e-40f4-e0d8-4c42f135396a"
   },
   "source": [
    "df_predictions = pd.DataFrame(predictions)\n",
    "df.describe()"
   ],
   "execution_count": 55,
   "outputs": [
    {
     "data": {
      "text/plain": "            Height       Weight          Age\ncount  1033.000000  1033.000000  1033.000000\nmean     73.698935   201.689255    28.737648\nstd       2.306330    20.991491     4.322298\nmin      67.000000   150.000000    20.900000\n25%      72.000000   187.000000    25.440000\n50%      74.000000   200.000000    27.930000\n75%      75.000000   215.000000    31.240000\nmax      83.000000   290.000000    48.520000",
      "text/html": "<div>\n<style scoped>\n    .dataframe tbody tr th:only-of-type {\n        vertical-align: middle;\n    }\n\n    .dataframe tbody tr th {\n        vertical-align: top;\n    }\n\n    .dataframe thead th {\n        text-align: right;\n    }\n</style>\n<table border=\"1\" class=\"dataframe\">\n  <thead>\n    <tr style=\"text-align: right;\">\n      <th></th>\n      <th>Height</th>\n      <th>Weight</th>\n      <th>Age</th>\n    </tr>\n  </thead>\n  <tbody>\n    <tr>\n      <th>count</th>\n      <td>1033.000000</td>\n      <td>1033.000000</td>\n      <td>1033.000000</td>\n    </tr>\n    <tr>\n      <th>mean</th>\n      <td>73.698935</td>\n      <td>201.689255</td>\n      <td>28.737648</td>\n    </tr>\n    <tr>\n      <th>std</th>\n      <td>2.306330</td>\n      <td>20.991491</td>\n      <td>4.322298</td>\n    </tr>\n    <tr>\n      <th>min</th>\n      <td>67.000000</td>\n      <td>150.000000</td>\n      <td>20.900000</td>\n    </tr>\n    <tr>\n      <th>25%</th>\n      <td>72.000000</td>\n      <td>187.000000</td>\n      <td>25.440000</td>\n    </tr>\n    <tr>\n      <th>50%</th>\n      <td>74.000000</td>\n      <td>200.000000</td>\n      <td>27.930000</td>\n    </tr>\n    <tr>\n      <th>75%</th>\n      <td>75.000000</td>\n      <td>215.000000</td>\n      <td>31.240000</td>\n    </tr>\n    <tr>\n      <th>max</th>\n      <td>83.000000</td>\n      <td>290.000000</td>\n      <td>48.520000</td>\n    </tr>\n  </tbody>\n</table>\n</div>"
     },
     "execution_count": 55,
     "metadata": {},
     "output_type": "execute_result"
    }
   ]
  },
  {
   "cell_type": "markdown",
   "metadata": {
    "id": "wXZj9Jq_TKjr"
   },
   "source": [
    "### Plot Predictions"
   ]
  },
  {
   "cell_type": "markdown",
   "metadata": {
    "id": "HsI07iiLD4P5"
   },
   "source": [
    "Let's inverse scale back to view predictions in a form we can understand, then plot"
   ]
  },
  {
   "cell_type": "code",
   "metadata": {
    "colab": {
     "base_uri": "https://localhost:8080/",
     "height": 323
    },
    "id": "h-n01gCsCTDa",
    "outputId": "2f2a3d7d-4849-4733-d228-51175c7ce5e5"
   },
   "source": [
    "df_inverse_scaled_prediction = pd.DataFrame(y_scaler.inverse_transform(y))\n",
    "df_inverse_scaled_prediction.describe()"
   ],
   "execution_count": 56,
   "outputs": [
    {
     "data": {
      "text/plain": "                 0\ncount  1033.000000\nmean     73.698935\nstd       2.306330\nmin      67.000000\n25%      72.000000\n50%      74.000000\n75%      75.000000\nmax      83.000000",
      "text/html": "<div>\n<style scoped>\n    .dataframe tbody tr th:only-of-type {\n        vertical-align: middle;\n    }\n\n    .dataframe tbody tr th {\n        vertical-align: top;\n    }\n\n    .dataframe thead th {\n        text-align: right;\n    }\n</style>\n<table border=\"1\" class=\"dataframe\">\n  <thead>\n    <tr style=\"text-align: right;\">\n      <th></th>\n      <th>0</th>\n    </tr>\n  </thead>\n  <tbody>\n    <tr>\n      <th>count</th>\n      <td>1033.000000</td>\n    </tr>\n    <tr>\n      <th>mean</th>\n      <td>73.698935</td>\n    </tr>\n    <tr>\n      <th>std</th>\n      <td>2.306330</td>\n    </tr>\n    <tr>\n      <th>min</th>\n      <td>67.000000</td>\n    </tr>\n    <tr>\n      <th>25%</th>\n      <td>72.000000</td>\n    </tr>\n    <tr>\n      <th>50%</th>\n      <td>74.000000</td>\n    </tr>\n    <tr>\n      <th>75%</th>\n      <td>75.000000</td>\n    </tr>\n    <tr>\n      <th>max</th>\n      <td>83.000000</td>\n    </tr>\n  </tbody>\n</table>\n</div>"
     },
     "execution_count": 56,
     "metadata": {},
     "output_type": "execute_result"
    }
   ]
  },
  {
   "cell_type": "markdown",
   "metadata": {
    "id": "HyNJLkXvV84d"
   },
   "source": [
    "### Print Accuracy of Linear Regression Model"
   ]
  },
  {
   "cell_type": "code",
   "metadata": {
    "id": "nwq5XCBjTNaa",
    "colab": {
     "base_uri": "https://localhost:8080/"
    },
    "outputId": "9bd7347f-d4aa-4785-c3bd-667a3a519244"
   },
   "source": [
    "model.score(X_test, y_test)"
   ],
   "execution_count": 58,
   "outputs": [
    {
     "data": {
      "text/plain": "0.26073908792710265"
     },
     "execution_count": 58,
     "metadata": {},
     "output_type": "execute_result"
    }
   ]
  },
  {
   "cell_type": "markdown",
   "metadata": {
    "id": "BDTZYM3zaXdz"
   },
   "source": [
    "### Export Model"
   ]
  },
  {
   "cell_type": "code",
   "metadata": {
    "id": "kA8TiySZaZTf"
   },
   "source": [
    "import joblib"
   ],
   "execution_count": 59,
   "outputs": []
  },
  {
   "cell_type": "code",
   "metadata": {
    "colab": {
     "base_uri": "https://localhost:8080/"
    },
    "id": "8Q8IGmwNea-k",
    "outputId": "3111d446-5878-45ff-8602-38e76d5c3ed2"
   },
   "source": [
    "joblib.dump(model, '../models/model.joblib')"
   ],
   "execution_count": 60,
   "outputs": [
    {
     "data": {
      "text/plain": "['../models/model.joblib']"
     },
     "execution_count": 60,
     "metadata": {},
     "output_type": "execute_result"
    }
   ]
  },
  {
   "cell_type": "markdown",
   "metadata": {
    "id": "NtL2tAgDeopQ"
   },
   "source": [
    "### Verify Model Import Feedbackloop"
   ]
  },
  {
   "cell_type": "code",
   "metadata": {
    "id": "OqOwzHesgjX0"
   },
   "source": [
    "clf_disk = joblib.load(\"../models/model.joblib\")"
   ],
   "execution_count": 62,
   "outputs": []
  },
  {
   "cell_type": "markdown",
   "metadata": {
    "id": "zzBLo2Aje8L1"
   },
   "source": [
    "### Test Predict From Model Loaded From Disk"
   ]
  },
  {
   "cell_type": "markdown",
   "metadata": {
    "id": "dhlgmqCnfVYv"
   },
   "source": [
    "View data"
   ]
  },
  {
   "cell_type": "code",
   "metadata": {
    "colab": {
     "base_uri": "https://localhost:8080/",
     "height": 228
    },
    "id": "8pPAtKDIfElK",
    "outputId": "d748038c-4112-4498-edaa-5438dda66bad"
   },
   "source": [
    "df.tail()"
   ],
   "execution_count": 63,
   "outputs": [
    {
     "data": {
      "text/plain": "                Name Team        Position  Height  Weight    Age\n1029   Brad_Thompson  STL  Relief_Pitcher      73   190.0  25.08\n1030   Tyler_Johnson  STL  Relief_Pitcher      74   180.0  25.73\n1031  Chris_Narveson  STL  Relief_Pitcher      75   205.0  25.19\n1032   Randy_Keisler  STL  Relief_Pitcher      75   190.0  31.01\n1033     Josh_Kinney  STL  Relief_Pitcher      73   195.0  27.92",
      "text/html": "<div>\n<style scoped>\n    .dataframe tbody tr th:only-of-type {\n        vertical-align: middle;\n    }\n\n    .dataframe tbody tr th {\n        vertical-align: top;\n    }\n\n    .dataframe thead th {\n        text-align: right;\n    }\n</style>\n<table border=\"1\" class=\"dataframe\">\n  <thead>\n    <tr style=\"text-align: right;\">\n      <th></th>\n      <th>Name</th>\n      <th>Team</th>\n      <th>Position</th>\n      <th>Height</th>\n      <th>Weight</th>\n      <th>Age</th>\n    </tr>\n  </thead>\n  <tbody>\n    <tr>\n      <th>1029</th>\n      <td>Brad_Thompson</td>\n      <td>STL</td>\n      <td>Relief_Pitcher</td>\n      <td>73</td>\n      <td>190.0</td>\n      <td>25.08</td>\n    </tr>\n    <tr>\n      <th>1030</th>\n      <td>Tyler_Johnson</td>\n      <td>STL</td>\n      <td>Relief_Pitcher</td>\n      <td>74</td>\n      <td>180.0</td>\n      <td>25.73</td>\n    </tr>\n    <tr>\n      <th>1031</th>\n      <td>Chris_Narveson</td>\n      <td>STL</td>\n      <td>Relief_Pitcher</td>\n      <td>75</td>\n      <td>205.0</td>\n      <td>25.19</td>\n    </tr>\n    <tr>\n      <th>1032</th>\n      <td>Randy_Keisler</td>\n      <td>STL</td>\n      <td>Relief_Pitcher</td>\n      <td>75</td>\n      <td>190.0</td>\n      <td>31.01</td>\n    </tr>\n    <tr>\n      <th>1033</th>\n      <td>Josh_Kinney</td>\n      <td>STL</td>\n      <td>Relief_Pitcher</td>\n      <td>73</td>\n      <td>195.0</td>\n      <td>27.92</td>\n    </tr>\n  </tbody>\n</table>\n</div>"
     },
     "execution_count": 63,
     "metadata": {},
     "output_type": "execute_result"
    }
   ]
  },
  {
   "cell_type": "markdown",
   "metadata": {
    "id": "pWeRcMPXgu-4"
   },
   "source": [
    "Get one observation and only get the Weight by grabbing Chris_Narveson"
   ]
  },
  {
   "cell_type": "code",
   "metadata": {
    "colab": {
     "base_uri": "https://localhost:8080/"
    },
    "id": "5FC7SKlunJ2w",
    "outputId": "e3b7bc3c-b71f-47e2-c045-540cca8d924c"
   },
   "source": [
    "pX = df.iloc[[1030]][[\"Weight\"]].values #Feature(s)\n",
    "pX = pX.reshape(-1,1)\n",
    "pX"
   ],
   "execution_count": 64,
   "outputs": [
    {
     "data": {
      "text/plain": "array([[205.]])"
     },
     "execution_count": 64,
     "metadata": {},
     "output_type": "execute_result"
    }
   ]
  },
  {
   "cell_type": "markdown",
   "metadata": {
    "id": "F-jEG_cSgCD5"
   },
   "source": [
    "Scale Input"
   ]
  },
  {
   "cell_type": "code",
   "metadata": {
    "colab": {
     "base_uri": "https://localhost:8080/"
    },
    "id": "NtPLOiNyozdj",
    "outputId": "471956a2-eb05-4177-b7bd-74c1468b3a98"
   },
   "source": [
    "target = df[\"Weight\"].values\n",
    "target = target.reshape(-1, 1)\n",
    "target"
   ],
   "execution_count": 65,
   "outputs": [
    {
     "data": {
      "text/plain": "array([[180.],\n       [215.],\n       [210.],\n       ...,\n       [205.],\n       [190.],\n       [195.]])"
     },
     "execution_count": 65,
     "metadata": {},
     "output_type": "execute_result"
    }
   ]
  },
  {
   "cell_type": "code",
   "metadata": {
    "id": "mG_8K0RMfMRY",
    "colab": {
     "base_uri": "https://localhost:8080/",
     "height": 57
    },
    "outputId": "69d32515-8e41-4964-9a25-db060cc950af"
   },
   "source": [
    "import numpy as np\n",
    "input_scaler = StandardScaler().fit(target) #scale relative to the values in the df\n",
    "scaled_input = input_scaler.transform(pX)\n",
    "np.array2string(scaled_input, formatter={'float_kind':'{0:.3f}'.format})"
   ],
   "execution_count": 66,
   "outputs": [
    {
     "data": {
      "text/plain": "'[[0.158]]'"
     },
     "execution_count": 66,
     "metadata": {},
     "output_type": "execute_result"
    }
   ]
  },
  {
   "cell_type": "markdown",
   "metadata": {
    "id": "mJ81TPE3mDI3"
   },
   "source": [
    "Inverse Transform Predicted Height"
   ]
  },
  {
   "cell_type": "code",
   "metadata": {
    "colab": {
     "base_uri": "https://localhost:8080/"
    },
    "id": "Z2Hxk7Vfi6BR",
    "outputId": "96bb29b6-ed32-4dcd-d023-fe3b88af5f96"
   },
   "source": [
    "result = clf.predict(scaled_input)\n",
    "print(f\"Unscaled prediction {result.tolist()[0]}\")\n",
    "transformed_prediction = y_scaler.inverse_transform(result) #Note the y_scaler is the target scaler\n",
    "print(f\"transformed_prediction {transformed_prediction.tolist()[0]}\")"
   ],
   "execution_count": 67,
   "outputs": [
    {
     "name": "stdout",
     "output_type": "stream",
     "text": [
      "Unscaled prediction [0.08282752662941836]\n",
      "transformed_prediction [73.88987022495702]\n"
     ]
    }
   ]
  },
  {
   "cell_type": "code",
   "metadata": {
    "id": "KLl0L3Vbldl8"
   },
   "source": [],
   "execution_count": null,
   "outputs": []
  }
 ]
}
